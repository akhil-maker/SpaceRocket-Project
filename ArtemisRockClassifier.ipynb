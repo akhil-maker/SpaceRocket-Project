{
 "metadata": {
  "language_info": {
   "codemirror_mode": {
    "name": "ipython",
    "version": 3
   },
   "file_extension": ".py",
   "mimetype": "text/x-python",
   "name": "python",
   "nbconvert_exporter": "python",
   "pygments_lexer": "ipython3",
   "version": "3.7.4"
  },
  "orig_nbformat": 2,
  "kernelspec": {
   "name": "python374jvsc74a57bd0d0494e375ab439e9f0d176b6d763da41f1645083b1b5ba9058a2a56202d549e4",
   "display_name": "Python 3.7.4 32-bit"
  },
  "metadata": {
   "interpreter": {
    "hash": "d0494e375ab439e9f0d176b6d763da41f1645083b1b5ba9058a2a56202d549e4"
   }
  }
 },
 "nbformat": 4,
 "nbformat_minor": 2,
 "cells": [
  {
   "cell_type": "code",
   "execution_count": 8,
   "metadata": {},
   "outputs": [
    {
     "output_type": "stream",
     "name": "stdout",
     "text": [
      "Artemis Rover Rock Scanner Starting\n"
     ]
    }
   ],
   "source": [
    "print(\"Artemis Rover Rock Scanner Starting\")"
   ]
  },
  {
   "cell_type": "code",
   "execution_count": 6,
   "metadata": {},
   "outputs": [],
   "source": [
    "basalt = 0\n",
    "breccia = 0\n",
    "highland = 0\n",
    "regolith = 0\n",
    "rockList = []"
   ]
  },
  {
   "cell_type": "code",
   "execution_count": 25,
   "metadata": {},
   "outputs": [
    {
     "output_type": "stream",
     "name": "stdout",
     "text": [
      "Reading Rocks\n\nhello regolith\n\nbye basalt\n\ntata breccia\n\ngood regolith\n\nnice highland\n\ntotoo\n"
     ]
    }
   ],
   "source": [
    "strPath = \"rocks.txt\"\n",
    "fileObject = open(strPath)\n",
    "line = fileObject.readline()\n",
    "print(line)\n",
    "rockList = fileObject.readlines()\n",
    "\n",
    "for rock in rockList:\n",
    "    print(rock)\n",
    "\n",
    "fileObject.close()"
   ]
  },
  {
   "cell_type": "code",
   "execution_count": 26,
   "metadata": {},
   "outputs": [
    {
     "output_type": "stream",
     "name": "stdout",
     "text": [
      "Reading Rocks\n\nhello regolith\n\nbye basalt\n\ntata breccia\n\ngood regolith\n\nnice highland\n\ntotoo\nFound a regolith\n\nFound a basalt\n\nFound a breccia\n\nFound a regolith\n\nFound a highland\n\nNumber of Basalt:  5\nNumber of Breccia:  5\nNumber of Highland:  5\nNumber of Regolith:  10\nThe max number of one type of rock found was: 10\nThe minimum number of one type of rock found was: 5\n"
     ]
    }
   ],
   "source": [
    "def countMoonRocks(rockToID):\n",
    "    global basalt\n",
    "    global breccia\n",
    "    global highland\n",
    "    global regolith\n",
    "\n",
    "    rockToID = rockToID.lower()\n",
    "\n",
    "    if(\"basalt\" in rockToID):\n",
    "        print(\"Found a basalt\\n\")\n",
    "        basalt += 1\n",
    "    elif(\"breccia\" in rockToID):\n",
    "        print(\"Found a breccia\\n\")\n",
    "        breccia += 1\n",
    "    elif(\"highland\" in rockToID):\n",
    "        print(\"Found a highland\\n\")\n",
    "        highland += 1\n",
    "    elif(\"regolith\" in rockToID):\n",
    "        print(\"Found a regolith\\n\")\n",
    "        regolith += 1\n",
    "\n",
    "    #TODO Add else if statements for breccia, highland and regolith\n",
    "\n",
    "    return\n",
    "\n",
    "strPath = \"rocks.txt\"\n",
    "fileObject = open(strPath)\n",
    "line = fileObject.readline()\n",
    "print(line)\n",
    "rockList = fileObject.readlines()\n",
    "\n",
    "for rock in rockList:\n",
    "    print(rock)\n",
    "\n",
    "fileObject.close()\n",
    "for rock in rockList:\n",
    "    countMoonRocks(rock)\n",
    "\n",
    "print(\"Number of Basalt: \", basalt)\n",
    "print(\"Number of Breccia: \", breccia)\n",
    "print(\"Number of Highland: \", highland)\n",
    "print(\"Number of Regolith: \", regolith)\n",
    "\n",
    "print(\"The max number of one type of rock found was:\", max(basalt, breccia, highland, regolith))\n",
    "print(\"The minimum number of one type of rock found was:\", min(basalt, breccia, highland, regolith))"
   ]
  },
  {
   "cell_type": "code",
   "execution_count": null,
   "metadata": {},
   "outputs": [],
   "source": []
  }
 ]
}